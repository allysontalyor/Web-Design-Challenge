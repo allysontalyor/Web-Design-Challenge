{
 "cells": [
  {
   "cell_type": "code",
   "execution_count": 1,
   "metadata": {},
   "outputs": [],
   "source": [
    "import pandas as pd"
   ]
  },
  {
   "cell_type": "code",
   "execution_count": 2,
   "metadata": {},
   "outputs": [],
   "source": [
    "file_path = 'summary_cities.csv'"
   ]
  },
  {
   "cell_type": "code",
   "execution_count": 5,
   "metadata": {},
   "outputs": [
    {
     "data": {
      "text/html": [
       "<div>\n",
       "<style scoped>\n",
       "    .dataframe tbody tr th:only-of-type {\n",
       "        vertical-align: middle;\n",
       "    }\n",
       "\n",
       "    .dataframe tbody tr th {\n",
       "        vertical-align: top;\n",
       "    }\n",
       "\n",
       "    .dataframe thead th {\n",
       "        text-align: right;\n",
       "    }\n",
       "</style>\n",
       "<table border=\"1\" class=\"dataframe\">\n",
       "  <thead>\n",
       "    <tr style=\"text-align: right;\">\n",
       "      <th></th>\n",
       "      <th>City</th>\n",
       "      <th>Cloudiness</th>\n",
       "      <th>Country</th>\n",
       "      <th>Date</th>\n",
       "      <th>Humidity</th>\n",
       "      <th>Lat</th>\n",
       "      <th>Lng</th>\n",
       "      <th>Max Temp</th>\n",
       "      <th>Wind Speed</th>\n",
       "    </tr>\n",
       "  </thead>\n",
       "  <tbody>\n",
       "    <tr>\n",
       "      <th>0</th>\n",
       "      <td>aljezur</td>\n",
       "      <td>100</td>\n",
       "      <td>PT</td>\n",
       "      <td>1579140568</td>\n",
       "      <td>96</td>\n",
       "      <td>37.32</td>\n",
       "      <td>-8.80</td>\n",
       "      <td>60.01</td>\n",
       "      <td>8.01</td>\n",
       "    </tr>\n",
       "    <tr>\n",
       "      <th>1</th>\n",
       "      <td>ahipara</td>\n",
       "      <td>45</td>\n",
       "      <td>NZ</td>\n",
       "      <td>1579140570</td>\n",
       "      <td>75</td>\n",
       "      <td>-35.17</td>\n",
       "      <td>173.17</td>\n",
       "      <td>75.99</td>\n",
       "      <td>1.01</td>\n",
       "    </tr>\n",
       "    <tr>\n",
       "      <th>2</th>\n",
       "      <td>humaita</td>\n",
       "      <td>29</td>\n",
       "      <td>BR</td>\n",
       "      <td>1579140571</td>\n",
       "      <td>92</td>\n",
       "      <td>-7.51</td>\n",
       "      <td>-63.02</td>\n",
       "      <td>74.57</td>\n",
       "      <td>1.66</td>\n",
       "    </tr>\n",
       "    <tr>\n",
       "      <th>3</th>\n",
       "      <td>kungurtug</td>\n",
       "      <td>77</td>\n",
       "      <td>RU</td>\n",
       "      <td>1579140573</td>\n",
       "      <td>78</td>\n",
       "      <td>50.60</td>\n",
       "      <td>97.52</td>\n",
       "      <td>-1.07</td>\n",
       "      <td>0.47</td>\n",
       "    </tr>\n",
       "    <tr>\n",
       "      <th>4</th>\n",
       "      <td>kijang</td>\n",
       "      <td>99</td>\n",
       "      <td>KR</td>\n",
       "      <td>1579140574</td>\n",
       "      <td>47</td>\n",
       "      <td>35.24</td>\n",
       "      <td>129.21</td>\n",
       "      <td>33.80</td>\n",
       "      <td>6.93</td>\n",
       "    </tr>\n",
       "  </tbody>\n",
       "</table>\n",
       "</div>"
      ],
      "text/plain": [
       "        City  Cloudiness Country        Date  Humidity    Lat     Lng  \\\n",
       "0    aljezur         100      PT  1579140568        96  37.32   -8.80   \n",
       "1    ahipara          45      NZ  1579140570        75 -35.17  173.17   \n",
       "2    humaita          29      BR  1579140571        92  -7.51  -63.02   \n",
       "3  kungurtug          77      RU  1579140573        78  50.60   97.52   \n",
       "4     kijang          99      KR  1579140574        47  35.24  129.21   \n",
       "\n",
       "   Max Temp  Wind Speed  \n",
       "0     60.01        8.01  \n",
       "1     75.99        1.01  \n",
       "2     74.57        1.66  \n",
       "3     -1.07        0.47  \n",
       "4     33.80        6.93  "
      ]
     },
     "execution_count": 5,
     "metadata": {},
     "output_type": "execute_result"
    }
   ],
   "source": [
    "summary_cities_df = pd.read_csv(file_path)\n",
    "summary_cities_df.head()"
   ]
  },
  {
   "cell_type": "code",
   "execution_count": 7,
   "metadata": {},
   "outputs": [],
   "source": [
    "summary_cities_df.to_html('summary_cities.html',index=False)"
   ]
  },
  {
   "cell_type": "code",
   "execution_count": null,
   "metadata": {},
   "outputs": [],
   "source": []
  }
 ],
 "metadata": {
  "kernelspec": {
   "display_name": "Python [conda env:PythonData] *",
   "language": "python",
   "name": "conda-env-PythonData-py"
  },
  "language_info": {
   "codemirror_mode": {
    "name": "ipython",
    "version": 3
   },
   "file_extension": ".py",
   "mimetype": "text/x-python",
   "name": "python",
   "nbconvert_exporter": "python",
   "pygments_lexer": "ipython3",
   "version": "3.7.5"
  }
 },
 "nbformat": 4,
 "nbformat_minor": 2
}
